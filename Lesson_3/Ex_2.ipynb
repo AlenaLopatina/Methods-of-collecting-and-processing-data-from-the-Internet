{
 "cells": [
  {
   "cell_type": "markdown",
   "id": "3640814c-5532-4f46-b7af-ead61451d298",
   "metadata": {},
   "source": [
    "## 2. Написать функцию, которая производит поиск и выводит на экран вакансии с заработной платой больше введённой суммы."
   ]
  },
  {
   "cell_type": "code",
   "execution_count": 1,
   "id": "358db5a8-56ac-4976-832d-8aad289266dc",
   "metadata": {},
   "outputs": [],
   "source": [
    "from pymongo import MongoClient"
   ]
  },
  {
   "cell_type": "code",
   "execution_count": 2,
   "id": "4daf25cc-d3d2-4222-be88-0c5a4ab291ec",
   "metadata": {},
   "outputs": [],
   "source": [
    "client = MongoClient('localhost', 27017)\n",
    "db = client['hh']\n",
    "hh_vac = db.vacancies"
   ]
  },
  {
   "cell_type": "code",
   "execution_count": 17,
   "id": "d7af056d-2e9f-42cd-84ec-0b9c14d1e0ba",
   "metadata": {},
   "outputs": [],
   "source": [
    "def fetch_vacancy_by_salary(min_salary):\n",
    "    return list(hh_vac.find({'$or':  ({'Минимальная зарплата': {'$gt': min_salary}},\n",
    "                                      {'Максимальная зарплата': {'$gt': min_salary}}\n",
    "                                     )\n",
    "                             }))"
   ]
  },
  {
   "cell_type": "code",
   "execution_count": 20,
   "id": "6e8aa63f-a628-45e6-8ecd-fbc8d1d0ae2d",
   "metadata": {},
   "outputs": [
    {
     "data": {
      "text/plain": [
       "[{'_id': ObjectId('6110153ebf24f9d75409fb12'),\n",
       "  'Наименование вакансии': 'Middle-backend Python разработчик / программист',\n",
       "  'Работодатель': 'Центр хранения и анализа больших данных',\n",
       "  'Минимальная зарплата': 180000.0,\n",
       "  'Максимальная зарплата': 200000.0,\n",
       "  'Сайт': 'hh.ru',\n",
       "  'Ссылка': 'https://hh.ru/vacancy/46861261?from=vacancy_search_list&query=python'},\n",
       " {'_id': ObjectId('6110153ebf24f9d75409fb16'),\n",
       "  'Наименование вакансии': 'Программист-разработчик AI / Data scientist / NLP Developer (Обработка естественного языка)',\n",
       "  'Работодатель': 'Clever Technology',\n",
       "  'Минимальная зарплата': 100000.0,\n",
       "  'Максимальная зарплата': 150000.0,\n",
       "  'Сайт': 'hh.ru',\n",
       "  'Ссылка': 'https://hh.ru/vacancy/46085998?from=vacancy_search_list&query=python'},\n",
       " {'_id': ObjectId('6110153ebf24f9d75409fb19'),\n",
       "  'Наименование вакансии': 'Старший python-разработчик',\n",
       "  'Работодатель': 'ООО\\xa0Тулстрек',\n",
       "  'Минимальная зарплата': 170000.0,\n",
       "  'Максимальная зарплата': 220000.0,\n",
       "  'Сайт': 'hh.ru',\n",
       "  'Ссылка': 'https://hh.ru/vacancy/46531633?from=vacancy_search_list&query=python'},\n",
       " {'_id': ObjectId('6110153ebf24f9d75409fb1a'),\n",
       "  'Наименование вакансии': 'Middle-Senior Python Backend разработчик',\n",
       "  'Работодатель': 'ТОО\\xa0JOO ANALYTICS',\n",
       "  'Минимальная зарплата': 400000.0,\n",
       "  'Максимальная зарплата': 600000.0,\n",
       "  'Сайт': 'hh.ru',\n",
       "  'Ссылка': 'https://hh.ru/vacancy/46684908?from=vacancy_search_list&query=python'},\n",
       " {'_id': ObjectId('6110153ebf24f9d75409fb1f'),\n",
       "  'Наименование вакансии': 'Python developer (Middle+/Senior)',\n",
       "  'Работодатель': 'ООО\\xa0Вайт Код',\n",
       "  'Минимальная зарплата': 250000.0,\n",
       "  'Максимальная зарплата': 400000.0,\n",
       "  'Сайт': 'hh.ru',\n",
       "  'Ссылка': 'https://hh.ru/vacancy/46417735?from=vacancy_search_list&query=python'},\n",
       " {'_id': ObjectId('6110153ebf24f9d75409fb20'),\n",
       "  'Наименование вакансии': 'Разработчик Python \\\\ Python Developer',\n",
       "  'Работодатель': 'UP business',\n",
       "  'Минимальная зарплата': 150000.0,\n",
       "  'Максимальная зарплата': '',\n",
       "  'Сайт': 'hh.ru',\n",
       "  'Ссылка': 'https://hh.ru/vacancy/46563698?from=vacancy_search_list&query=python'},\n",
       " {'_id': ObjectId('6110153ebf24f9d75409fb26'),\n",
       "  'Наименование вакансии': 'Python developer / data engineer (Jun->Mid)',\n",
       "  'Работодатель': 'Wunder Fund',\n",
       "  'Минимальная зарплата': 120000.0,\n",
       "  'Максимальная зарплата': 150000.0,\n",
       "  'Сайт': 'hh.ru',\n",
       "  'Ссылка': 'https://hh.ru/vacancy/46392030?from=vacancy_search_list&query=python'},\n",
       " {'_id': ObjectId('6110153ebf24f9d75409fb27'),\n",
       "  'Наименование вакансии': 'Python разработчик (senior) (backend)',\n",
       "  'Работодатель': 'ООО\\xa0Лендсбэй',\n",
       "  'Минимальная зарплата': '',\n",
       "  'Максимальная зарплата': 500000.0,\n",
       "  'Сайт': 'hh.ru',\n",
       "  'Ссылка': 'https://hh.ru/vacancy/43941903?from=vacancy_search_list&query=python'},\n",
       " {'_id': ObjectId('6110153ebf24f9d75409fb28'),\n",
       "  'Наименование вакансии': 'Junior Python Developer',\n",
       "  'Работодатель': 'ООО\\xa0Ябби',\n",
       "  'Минимальная зарплата': '',\n",
       "  'Максимальная зарплата': 120000.0,\n",
       "  'Сайт': 'hh.ru',\n",
       "  'Ссылка': 'https://hh.ru/vacancy/46832187?from=vacancy_search_list&query=python'},\n",
       " {'_id': ObjectId('6110153ebf24f9d75409fb2a'),\n",
       "  'Наименование вакансии': 'Python разработчик',\n",
       "  'Работодатель': 'ООО\\xa0МОНСТР',\n",
       "  'Минимальная зарплата': 250000.0,\n",
       "  'Максимальная зарплата': '',\n",
       "  'Сайт': 'hh.ru',\n",
       "  'Ссылка': 'https://hh.ru/vacancy/46314277?from=vacancy_search_list&query=python'}]"
      ]
     },
     "execution_count": 20,
     "metadata": {},
     "output_type": "execute_result"
    }
   ],
   "source": [
    "# Выведем немного для проверки\n",
    "fetch_vacancy_by_salary(100000)[:10]"
   ]
  }
 ],
 "metadata": {
  "kernelspec": {
   "display_name": "Python 3",
   "language": "python",
   "name": "python3"
  },
  "language_info": {
   "codemirror_mode": {
    "name": "ipython",
    "version": 3
   },
   "file_extension": ".py",
   "mimetype": "text/x-python",
   "name": "python",
   "nbconvert_exporter": "python",
   "pygments_lexer": "ipython3",
   "version": "3.8.8"
  }
 },
 "nbformat": 4,
 "nbformat_minor": 5
}
