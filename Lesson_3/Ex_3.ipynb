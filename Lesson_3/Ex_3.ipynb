{
 "cells": [
  {
   "cell_type": "markdown",
   "id": "3f6256d2-a23d-4780-b498-743788613c65",
   "metadata": {},
   "source": [
    "## 3. Написать функцию, которая будет добавлять в вашу базу данных только новые вакансии с сайта."
   ]
  },
  {
   "cell_type": "code",
   "execution_count": 6,
   "id": "6b9dea9e-b2d6-4fb4-b7ff-0eeb22640ddd",
   "metadata": {},
   "outputs": [],
   "source": [
    "from pymongo import MongoClient\n",
    "import pandas as pd\n",
    "import json"
   ]
  },
  {
   "cell_type": "code",
   "execution_count": 7,
   "id": "a486e4b9-01a1-4692-9301-04ec88cef0ce",
   "metadata": {},
   "outputs": [],
   "source": [
    "client = MongoClient('localhost', 27017)\n",
    "db = client['hh']\n",
    "hh_vac = db.vacancies"
   ]
  },
  {
   "cell_type": "code",
   "execution_count": 14,
   "id": "6b8ad915-cdd2-45c3-b4b0-574b482defcd",
   "metadata": {},
   "outputs": [],
   "source": [
    "def add_to_db_only_new_items(vacancy :dict):\n",
    "    # Подготавливаем даные\n",
    "    find_condition = {'Ссылка': vacancy['Ссылка']}  # Условие для поиска при обновлении данных\n",
    "    elements_for_update = vacancy  # Оставшиеся элементы для обновления\n",
    "    elements_for_update.pop('Ссылка')  # Оставшиеся элементы для обновления\n",
    "    elements_for_update = {'$set': elements_for_update}\n",
    "    # Кладем в метод\n",
    "    result_update = hh_vac.update_one(find_condition, elements_for_update)\n",
    "    result_matched = result_update.matched_count\n",
    "    if result_matched == 0:  # Если не было обновлено ни одного элемента\n",
    "        hh_vac.insert_one(vacancy)\n",
    "        return 1\n",
    "    return 0"
   ]
  },
  {
   "cell_type": "code",
   "execution_count": 27,
   "id": "10e03f6d-1364-4cb2-a7f4-46d0d9c419c4",
   "metadata": {},
   "outputs": [],
   "source": [
    "with open('result.json') as file:\n",
    "    vacancies = json.loads(file.read())\n",
    "df = pd.DataFrame(vacancies).fillna('')\n",
    "# Преобразуем в нужный вид\n",
    "vacancies = []\n",
    "for ind in df.index:\n",
    "    vacancies.append(df.loc[ind].to_dict())"
   ]
  },
  {
   "cell_type": "markdown",
   "id": "6dad3336-282c-4fbf-8640-6ea68521ffd4",
   "metadata": {},
   "source": [
    "**Переменная \"vacancies\" - должен быть списом словарей вакансий**"
   ]
  },
  {
   "cell_type": "code",
   "execution_count": 28,
   "id": "57ee2d51-f886-48d3-8018-963c4f497f26",
   "metadata": {},
   "outputs": [
    {
     "name": "stdout",
     "output_type": "stream",
     "text": [
      "Добавлено 0 новых элементов\n",
      "Wall time: 8.83 s\n"
     ]
    }
   ],
   "source": [
    "%%time\n",
    "cnt = 0  # Счетчик \n",
    "for vac in vacancies:\n",
    "    cnt += add_to_db_only_new_items(vacancy=vac)\n",
    "print(f'Добавлено {cnt} новых элементов')"
   ]
  }
 ],
 "metadata": {
  "kernelspec": {
   "display_name": "Python 3",
   "language": "python",
   "name": "python3"
  },
  "language_info": {
   "codemirror_mode": {
    "name": "ipython",
    "version": 3
   },
   "file_extension": ".py",
   "mimetype": "text/x-python",
   "name": "python",
   "nbconvert_exporter": "python",
   "pygments_lexer": "ipython3",
   "version": "3.8.8"
  }
 },
 "nbformat": 4,
 "nbformat_minor": 5
}
