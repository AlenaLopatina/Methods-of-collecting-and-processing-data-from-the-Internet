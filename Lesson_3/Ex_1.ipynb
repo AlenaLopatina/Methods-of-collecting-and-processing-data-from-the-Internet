{
 "cells": [
  {
   "cell_type": "markdown",
   "id": "290de7ab-98cc-4dfc-b4b5-a76b41dfc7f0",
   "metadata": {},
   "source": [
    "## 1. Развернуть у себя на компьютере/виртуальной машине/хостинге MongoDB и реализовать функцию, записывающую собранные вакансии в созданную БД."
   ]
  },
  {
   "cell_type": "code",
   "execution_count": 2,
   "id": "dbb2516b-64ab-4902-bcc1-95930387cbfa",
   "metadata": {},
   "outputs": [],
   "source": [
    "from pymongo import MongoClient\n",
    "import json\n",
    "import pandas as pd"
   ]
  },
  {
   "cell_type": "code",
   "execution_count": 3,
   "id": "74ddf1ca-efbf-438c-9b1f-d9ff09d0f9d9",
   "metadata": {},
   "outputs": [],
   "source": [
    "client = MongoClient('localhost', 27017)\n",
    "db = client['hh']\n",
    "hh_vac = db.vacancies"
   ]
  },
  {
   "cell_type": "markdown",
   "id": "007a957c-b834-4c5f-a702-26acbea6f621",
   "metadata": {},
   "source": [
    "### Читаем ранее записанные данные"
   ]
  },
  {
   "cell_type": "code",
   "execution_count": 4,
   "id": "f0767c78-5db2-4f95-b7e6-17c4acf8004b",
   "metadata": {},
   "outputs": [],
   "source": [
    "with open('result.json') as file:\n",
    "    result = json.loads(file.read())\n",
    "df = pd.DataFrame(result).fillna('')\n",
    "# Преобразуем в нужный вид\n",
    "result = []\n",
    "for ind in df.index:\n",
    "    result.append(df.loc[ind].to_dict())"
   ]
  },
  {
   "cell_type": "markdown",
   "id": "6cda2e6e-268a-4aa4-b972-4238984495a2",
   "metadata": {},
   "source": [
    "### Кладем в БД"
   ]
  },
  {
   "cell_type": "code",
   "execution_count": 7,
   "id": "b92de320-431a-49ca-8550-2a77dca8f307",
   "metadata": {
    "tags": []
   },
   "outputs": [
    {
     "data": {
      "text/plain": [
       "<pymongo.results.InsertManyResult at 0x2cd45a65700>"
      ]
     },
     "execution_count": 7,
     "metadata": {},
     "output_type": "execute_result"
    }
   ],
   "source": [
    "hh_vac.insert_many(result)"
   ]
  },
  {
   "cell_type": "markdown",
   "id": "9a0b0c50-e7ba-4b3f-934e-1165e4bab837",
   "metadata": {
    "tags": []
   },
   "source": [
    "### Проверяем"
   ]
  },
  {
   "cell_type": "code",
   "execution_count": 11,
   "id": "750b4c5e-740c-4223-a5f6-2b1f3b1aa629",
   "metadata": {},
   "outputs": [
    {
     "data": {
      "text/plain": [
       "[{'_id': ObjectId('6110153ebf24f9d75409fb12'),\n",
       "  'Наименование вакансии': 'Middle-backend Python разработчик / программист',\n",
       "  'Работодатель': 'Центр хранения и анализа больших данных',\n",
       "  'Минимальная зарплата': 180000.0,\n",
       "  'Максимальная зарплата': 200000.0,\n",
       "  'Сайт': 'hh.ru',\n",
       "  'Ссылка': 'https://hh.ru/vacancy/46861261?from=vacancy_search_list&query=python'},\n",
       " {'_id': ObjectId('6110153ebf24f9d75409fb13'),\n",
       "  'Наименование вакансии': 'Python Developer',\n",
       "  'Работодатель': 'Scand',\n",
       "  'Минимальная зарплата': '',\n",
       "  'Максимальная зарплата': '',\n",
       "  'Сайт': 'hh.ru',\n",
       "  'Ссылка': 'https://hh.ru/vacancy/46061485?from=vacancy_search_list&query=python'},\n",
       " {'_id': ObjectId('6110153ebf24f9d75409fb14'),\n",
       "  'Наименование вакансии': 'Data Analyst',\n",
       "  'Работодатель': 'Top Remote Talent',\n",
       "  'Минимальная зарплата': 4000.0,\n",
       "  'Максимальная зарплата': 6500.0,\n",
       "  'Сайт': 'hh.ru',\n",
       "  'Ссылка': 'https://hh.ru/vacancy/46870106?from=vacancy_search_list&query=python'},\n",
       " {'_id': ObjectId('6110153ebf24f9d75409fb15'),\n",
       "  'Наименование вакансии': 'Python Developer',\n",
       "  'Работодатель': 'LeverX International',\n",
       "  'Минимальная зарплата': '',\n",
       "  'Максимальная зарплата': '',\n",
       "  'Сайт': 'hh.ru',\n",
       "  'Ссылка': 'https://hh.ru/vacancy/46826981?from=vacancy_search_list&query=python'},\n",
       " {'_id': ObjectId('6110153ebf24f9d75409fb16'),\n",
       "  'Наименование вакансии': 'Программист-разработчик AI / Data scientist / NLP Developer (Обработка естественного языка)',\n",
       "  'Работодатель': 'Clever Technology',\n",
       "  'Минимальная зарплата': 100000.0,\n",
       "  'Максимальная зарплата': 150000.0,\n",
       "  'Сайт': 'hh.ru',\n",
       "  'Ссылка': 'https://hh.ru/vacancy/46085998?from=vacancy_search_list&query=python'},\n",
       " {'_id': ObjectId('6110153ebf24f9d75409fb17'),\n",
       "  'Наименование вакансии': 'Python Developer',\n",
       "  'Работодатель': 'УП\\xa0Руна Системс',\n",
       "  'Минимальная зарплата': '',\n",
       "  'Максимальная зарплата': '',\n",
       "  'Сайт': 'hh.ru',\n",
       "  'Ссылка': 'https://hh.ru/vacancy/45276813?from=vacancy_search_list&query=python'},\n",
       " {'_id': ObjectId('6110153ebf24f9d75409fb18'),\n",
       "  'Наименование вакансии': 'Senior ML engineer (ML/DS инженер)',\n",
       "  'Работодатель': 'Mindbox',\n",
       "  'Минимальная зарплата': '',\n",
       "  'Максимальная зарплата': '',\n",
       "  'Сайт': 'hh.ru',\n",
       "  'Ссылка': 'https://hh.ru/vacancy/46344625?from=vacancy_search_list&query=python'},\n",
       " {'_id': ObjectId('6110153ebf24f9d75409fb19'),\n",
       "  'Наименование вакансии': 'Старший python-разработчик',\n",
       "  'Работодатель': 'ООО\\xa0Тулстрек',\n",
       "  'Минимальная зарплата': 170000.0,\n",
       "  'Максимальная зарплата': 220000.0,\n",
       "  'Сайт': 'hh.ru',\n",
       "  'Ссылка': 'https://hh.ru/vacancy/46531633?from=vacancy_search_list&query=python'},\n",
       " {'_id': ObjectId('6110153ebf24f9d75409fb1a'),\n",
       "  'Наименование вакансии': 'Middle-Senior Python Backend разработчик',\n",
       "  'Работодатель': 'ТОО\\xa0JOO ANALYTICS',\n",
       "  'Минимальная зарплата': 400000.0,\n",
       "  'Максимальная зарплата': 600000.0,\n",
       "  'Сайт': 'hh.ru',\n",
       "  'Ссылка': 'https://hh.ru/vacancy/46684908?from=vacancy_search_list&query=python'},\n",
       " {'_id': ObjectId('6110153ebf24f9d75409fb1b'),\n",
       "  'Наименование вакансии': 'Data Scientist',\n",
       "  'Работодатель': 'B2Broker Москва',\n",
       "  'Минимальная зарплата': '',\n",
       "  'Максимальная зарплата': '',\n",
       "  'Сайт': 'hh.ru',\n",
       "  'Ссылка': 'https://hh.ru/vacancy/46079759?from=vacancy_search_list&query=python'}]"
      ]
     },
     "execution_count": 11,
     "metadata": {},
     "output_type": "execute_result"
    }
   ],
   "source": [
    "# Выведем немного\n",
    "list(hh_vac.find({}))[:10]    "
   ]
  },
  {
   "cell_type": "code",
   "execution_count": null,
   "id": "3a266edf-25b8-4f07-b0a9-52aba1f3ed3a",
   "metadata": {},
   "outputs": [],
   "source": []
  }
 ],
 "metadata": {
  "kernelspec": {
   "display_name": "Python 3",
   "language": "python",
   "name": "python3"
  },
  "language_info": {
   "codemirror_mode": {
    "name": "ipython",
    "version": 3
   },
   "file_extension": ".py",
   "mimetype": "text/x-python",
   "name": "python",
   "nbconvert_exporter": "python",
   "pygments_lexer": "ipython3",
   "version": "3.8.8"
  }
 },
 "nbformat": 4,
 "nbformat_minor": 5
}
